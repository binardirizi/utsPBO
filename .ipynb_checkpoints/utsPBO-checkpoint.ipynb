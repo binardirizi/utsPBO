{
 "cells": [
  {
   "cell_type": "code",
   "execution_count": 3,
   "id": "091711f0",
   "metadata": {},
   "outputs": [
    {
     "name": "stdout",
     "output_type": "stream",
     "text": [
      "Jawaban No 1\n",
      "======================================================================\n",
      "===========================Curriculume Vitae==========================\n",
      "Nama                      :  Binardi Rizi\n",
      "Pendidikan Formal         :  \n",
      "                             SDN 02 Gersik\n",
      "                             MTsN Semparuk\n",
      "                             SMAN 1 Pemangkat\n",
      "                    \n",
      "Pendidikan Non-Formal     :  Tidak Ada\n",
      "Organisasi                :  Pramuka\n",
      "Prestasi                  :  \n",
      "                             1. Juara 2 O2SN Tingkat Kabupaten Sambas\n",
      "                             2. Juara 4 LKTI Tingkat Kabupaten Sambas\n",
      "            \n",
      "======================================================================\n"
     ]
    }
   ],
   "source": [
    "print (\"Jawaban No 1\")\n",
    "nama   = \"Binardi Rizi\"\n",
    "pendidikanFormal = \"\"\"\n",
    "                             SDN 02 Gersik\n",
    "                             MTsN Semparuk\n",
    "                             SMAN 1 Pemangkat\n",
    "                    \"\"\"\n",
    "pendidikanNonformal = False\n",
    "organisasi = \"Pramuka\"\n",
    "prestasi = \"\"\"\n",
    "                             1. Juara 2 O2SN Tingkat Kabupaten Sambas\n",
    "                             2. Juara 4 LKTI Tingkat Kabupaten Sambas\n",
    "            \"\"\"\n",
    "# mencetak isi variabel\n",
    "print(\"======================================================================\")\n",
    "print(\"===========================Curriculume Vitae==========================\")\n",
    "print (\"Nama                      : \", nama)\n",
    "print (\"Pendidikan Formal         : \", pendidikanFormal)\n",
    "if(pendidikanNonformal):\n",
    "    print (\"Pendidikan Non-Formal     :  Ada \")\n",
    "else:\n",
    "    print (\"Pendidikan Non-Formal     :  Tidak Ada\")\n",
    "print (\"Organisasi                : \", organisasi)\n",
    "print (\"Prestasi                  : \", prestasi)\n",
    "print(\"======================================================================\")"
   ]
  },
  {
   "cell_type": "code",
   "execution_count": 19,
   "id": "1ba6c938",
   "metadata": {},
   "outputs": [
    {
     "name": "stdout",
     "output_type": "stream",
     "text": [
      "Jawaban No 2\n",
      "MENGHITUNG LUAS PERSEGI PANJANG\n",
      "\n",
      "Masukan Panjang: 10\n",
      "Masukan Lebar  : 20\n",
      "Luas Persegi Panjang: 200.0\n"
     ]
    }
   ],
   "source": [
    "print (\"Jawaban No 2\")\n",
    "print(\"MENGHITUNG LUAS PERSEGI PANJANG\")\n",
    "panjang = float(input(\"\\nMasukan Panjang: \"))\n",
    "lebar = float(input(\"Masukan Lebar  : \"))\n",
    "\n",
    "luas = panjang*lebar\n",
    "\n",
    "# mencetak isi variabel\n",
    "print(\"Luas Persegi Panjang:\",luas)"
   ]
  },
  {
   "cell_type": "code",
   "execution_count": 17,
   "id": "adf32794",
   "metadata": {},
   "outputs": [
    {
     "name": "stdout",
     "output_type": "stream",
     "text": [
      "Jawaban No 2\n",
      "KONVERSI SUHU\n",
      "Celcius    : 16\n",
      "Reamur     :  12.8\n",
      "Fahrenheit :  60.8\n"
     ]
    }
   ],
   "source": [
    "print (\"Jawaban No 3\")\n",
    "print(\"KONVERSI SUHU\")\n",
    "Celcius = float(input(\"Celcius    : \"));\n",
    "Reamur = (4/5)*Celcius;\n",
    "Fahrenheit = (9/5)*Celcius + 32; \n",
    "\n",
    "# mencetak isi variabel\n",
    "print (\"Reamur     : \",Reamur);\n",
    "print (\"Fahrenheit : \",Fahrenheit);"
   ]
  },
  {
   "cell_type": "code",
   "execution_count": 32,
   "id": "11d1594f",
   "metadata": {},
   "outputs": [
    {
     "name": "stdout",
     "output_type": "stream",
     "text": [
      "Jawaban No 4\n",
      "KONVERSI DETIK\n",
      "Masukkan jumlah detik: 3600\n",
      "1 jam 0 menit 0 detik\n"
     ]
    }
   ],
   "source": [
    "print (\"Jawaban No 4\")\n",
    "print(\"KONVERSI DETIK\")\n",
    "\n",
    "jumlah_detik=eval(input(\"Masukkan jumlah detik: \"))\n",
    "\n",
    "jam=jumlah_detik//3600\n",
    "sisa_detik=jumlah_detik-3600*jam\n",
    "menit=sisa_detik//60\n",
    "detik=sisa_detik-(60*menit)\n",
    "\n",
    "print(\"%d jam %d menit %d detik\"%(jam,menit,detik))"
   ]
  },
  {
   "cell_type": "code",
   "execution_count": 29,
   "id": "fc17934b",
   "metadata": {},
   "outputs": [
    {
     "name": "stdout",
     "output_type": "stream",
     "text": [
      "Jawaban No 5\n",
      "MENGHITUNG LUAS LINGKARAN\n",
      "Masukkan panjang jari-jari lingkaran: 2\n",
      "Luas lingkaran adalah : 12.56\n"
     ]
    }
   ],
   "source": [
    "print (\"Jawaban No 5\")\n",
    "print(\"MENGHITUNG LUAS LINGKARAN\")\n",
    "phi = 3.14\n",
    "r = float(input(\"Masukkan panjang jari-jari lingkaran: \"))\n",
    "luas = phi*r*r\n",
    "\n",
    "# mencetak isi variabel\n",
    "print(\"Luas lingkaran adalah : \"+ str(luas))"
   ]
  },
  {
   "cell_type": "code",
   "execution_count": null,
   "id": "40000354",
   "metadata": {},
   "outputs": [],
   "source": []
  },
  {
   "cell_type": "code",
   "execution_count": null,
   "id": "16c953f9",
   "metadata": {},
   "outputs": [],
   "source": []
  },
  {
   "cell_type": "code",
   "execution_count": null,
   "id": "fcf4f8da",
   "metadata": {},
   "outputs": [],
   "source": []
  }
 ],
 "metadata": {
  "kernelspec": {
   "display_name": "Python 3",
   "language": "python",
   "name": "python3"
  },
  "language_info": {
   "codemirror_mode": {
    "name": "ipython",
    "version": 3
   },
   "file_extension": ".py",
   "mimetype": "text/x-python",
   "name": "python",
   "nbconvert_exporter": "python",
   "pygments_lexer": "ipython3",
   "version": "3.8.8"
  }
 },
 "nbformat": 4,
 "nbformat_minor": 5
}
