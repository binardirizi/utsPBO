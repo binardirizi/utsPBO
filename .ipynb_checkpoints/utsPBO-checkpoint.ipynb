{
 "cells": [
  {
   "cell_type": "code",
   "execution_count": 3,
   "id": "091711f0",
   "metadata": {},
   "outputs": [
    {
     "name": "stdout",
     "output_type": "stream",
     "text": [
      "Jawaban No 1\n",
      "======================================================================\n",
      "===========================Curriculume Vitae==========================\n",
      "Nama                      :  Binardi Rizi\n",
      "Pendidikan Formal         :  \n",
      "                             SDN 02 Gersik\n",
      "                             MTsN Semparuk\n",
      "                             SMAN 1 Pemangkat\n",
      "                    \n",
      "Pendidikan Non-Formal     :  Tidak Ada\n",
      "Organisasi                :  Pramuka\n",
      "Prestasi                  :  \n",
      "                             1. Juara 2 O2SN Tingkat Kabupaten Sambas\n",
      "                             2. Juara 4 LKTI Tingkat Kabupaten Sambas\n",
      "            \n",
      "======================================================================\n"
     ]
    }
   ],
   "source": [
    "print (\"Jawaban No 1\")\n",
    "nama   = \"Binardi Rizi\"\n",
    "pendidikanFormal = \"\"\"\n",
    "                             SDN 02 Gersik\n",
    "                             MTsN Semparuk\n",
    "                             SMAN 1 Pemangkat\n",
    "                    \"\"\"\n",
    "pendidikanNonformal = False\n",
    "organisasi = \"Pramuka\"\n",
    "prestasi = \"\"\"\n",
    "                             1. Juara 2 O2SN Tingkat Kabupaten Sambas\n",
    "                             2. Juara 4 LKTI Tingkat Kabupaten Sambas\n",
    "            \"\"\"\n",
    "# mencetak isi variabel\n",
    "print(\"======================================================================\")\n",
    "print(\"===========================Curriculume Vitae==========================\")\n",
    "print (\"Nama                      : \", nama)\n",
    "print (\"Pendidikan Formal         : \", pendidikanFormal)\n",
    "if(pendidikanNonformal):\n",
    "    print (\"Pendidikan Non-Formal     :  Ada \")\n",
    "else:\n",
    "    print (\"Pendidikan Non-Formal     :  Tidak Ada\")\n",
    "print (\"Organisasi                : \", organisasi)\n",
    "print (\"Prestasi                  : \", prestasi)\n",
    "print(\"======================================================================\")"
   ]
  },
  {
   "cell_type": "code",
   "execution_count": 19,
   "id": "1ba6c938",
   "metadata": {},
   "outputs": [
    {
     "name": "stdout",
     "output_type": "stream",
     "text": [
      "Jawaban No 2\n",
      "MENGHITUNG LUAS PERSEGI PANJANG\n",
      "\n",
      "Masukan Panjang: 10\n",
      "Masukan Lebar  : 20\n",
      "Luas Persegi Panjang: 200.0\n"
     ]
    }
   ],
   "source": [
    "print (\"Jawaban No 2\")\n",
    "print(\"MENGHITUNG LUAS PERSEGI PANJANG\")\n",
    "panjang = float(input(\"\\nMasukan Panjang: \"))\n",
    "lebar = float(input(\"Masukan Lebar  : \"))\n",
    "\n",
    "luas = panjang*lebar\n",
    "\n",
    "# mencetak isi variabel\n",
    "print(\"Luas Persegi Panjang:\",luas)"
   ]
  },
  {
   "cell_type": "code",
   "execution_count": 17,
   "id": "014fe137",
   "metadata": {},
   "outputs": [
    {
     "name": "stdout",
     "output_type": "stream",
     "text": [
      "Jawaban No 2\n",
      "KONVERSI SUHU\n",
      "Celcius    : 16\n",
      "Reamur     :  12.8\n",
      "Fahrenheit :  60.8\n"
     ]
    }
   ],
   "source": [
    "print (\"Jawaban No 3\")\n",
    "print(\"KONVERSI SUHU\")\n",
    "Celcius = float(input(\"Celcius    : \"));\n",
    "Reamur = (4/5)*Celcius;\n",
    "Fahrenheit = (9/5)*Celcius + 32; \n",
    "\n",
    "# mencetak isi variabel\n",
    "print (\"Reamur     : \",Reamur);\n",
    "print (\"Fahrenheit : \",Fahrenheit);"
   ]
  },
  {
   "cell_type": "code",
   "execution_count": 27,
   "id": "cf3c236a",
   "metadata": {},
   "outputs": [
    {
     "ename": "SyntaxError",
     "evalue": "invalid syntax (<ipython-input-27-0b68010aa499>, line 3)",
     "output_type": "error",
     "traceback": [
      "\u001b[1;36m  File \u001b[1;32m\"<ipython-input-27-0b68010aa499>\"\u001b[1;36m, line \u001b[1;32m3\u001b[0m\n\u001b[1;33m    void main ()\u001b[0m\n\u001b[1;37m         ^\u001b[0m\n\u001b[1;31mSyntaxError\u001b[0m\u001b[1;31m:\u001b[0m invalid syntax\n"
     ]
    }
   ],
   "source": []
  },
  {
   "cell_type": "code",
   "execution_count": 29,
   "id": "e1cd3a52",
   "metadata": {},
   "outputs": [
    {
     "name": "stdout",
     "output_type": "stream",
     "text": [
      "Jawaban No 5\n",
      "MENGHITUNG LUAS LINGKARAN\n",
      "Masukkan panjang jari-jari lingkaran: 2\n",
      "Luas lingkaran adalah : 12.56\n"
     ]
    }
   ],
   "source": [
    "print (\"Jawaban No 5\")\n",
    "print(\"MENGHITUNG LUAS LINGKARAN\")\n",
    "phi = 3.14\n",
    "r = float(input(\"Masukkan panjang jari-jari lingkaran: \"))\n",
    "luas = phi*r*r\n",
    "\n",
    "# mencetak isi variabel\n",
    "print(\"Luas lingkaran adalah : \"+ str(luas))"
   ]
  },
  {
   "cell_type": "code",
   "execution_count": null,
   "id": "9b48f12f",
   "metadata": {},
   "outputs": [],
   "source": []
  },
  {
   "cell_type": "code",
   "execution_count": null,
   "id": "8e985a63",
   "metadata": {},
   "outputs": [],
   "source": []
  },
  {
   "cell_type": "code",
   "execution_count": null,
   "id": "df8878d9",
   "metadata": {},
   "outputs": [],
   "source": []
  }
 ],
 "metadata": {
  "kernelspec": {
   "display_name": "Python 3",
   "language": "python",
   "name": "python3"
  },
  "language_info": {
   "codemirror_mode": {
    "name": "ipython",
    "version": 3
   },
   "file_extension": ".py",
   "mimetype": "text/x-python",
   "name": "python",
   "nbconvert_exporter": "python",
   "pygments_lexer": "ipython3",
   "version": "3.8.8"
  }
 },
 "nbformat": 4,
 "nbformat_minor": 5
}
