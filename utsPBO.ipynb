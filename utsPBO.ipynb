{
 "cells": [
  {
   "cell_type": "code",
   "execution_count": 3,
   "id": "091711f0",
   "metadata": {},
   "outputs": [
    {
     "name": "stdout",
     "output_type": "stream",
     "text": [
      "Jawaban No 1\n",
      "======================================================================\n",
      "===========================Curriculume Vitae==========================\n",
      "Nama                      :  Binardi Rizi\n",
      "Pendidikan Formal         :  \n",
      "                             SDN 02 Gersik\n",
      "                             MTsN Semparuk\n",
      "                             SMAN 1 Pemangkat\n",
      "                    \n",
      "Pendidikan Non-Formal     :  Tidak Ada\n",
      "Organisasi                :  Pramuka\n",
      "Prestasi                  :  \n",
      "                             1. Juara 2 O2SN Tingkat Kabupaten Sambas\n",
      "                             2. Juara 4 LKTI Tingkat Kabupaten Sambas\n",
      "            \n",
      "======================================================================\n"
     ]
    }
   ],
   "source": [
    "print (\"Jawaban No 1\")\n",
    "nama   = \"Binardi Rizi\"\n",
    "pendidikanFormal = \"\"\"\n",
    "                             SDN 02 Gersik\n",
    "                             MTsN Semparuk\n",
    "                             SMAN 1 Pemangkat\n",
    "                    \"\"\"\n",
    "pendidikanNonformal = False\n",
    "organisasi = \"Pramuka\"\n",
    "prestasi = \"\"\"\n",
    "                             1. Juara 2 O2SN Tingkat Kabupaten Sambas\n",
    "                             2. Juara 4 LKTI Tingkat Kabupaten Sambas\n",
    "            \"\"\"\n",
    "# mencetak isi variabel\n",
    "print(\"======================================================================\")\n",
    "print(\"===========================Curriculume Vitae==========================\")\n",
    "print (\"Nama                      : \", nama)\n",
    "print (\"Pendidikan Formal         : \", pendidikanFormal)\n",
    "if(pendidikanNonformal):\n",
    "    print (\"Pendidikan Non-Formal     :  Ada \")\n",
    "else:\n",
    "    print (\"Pendidikan Non-Formal     :  Tidak Ada\")\n",
    "print (\"Organisasi                : \", organisasi)\n",
    "print (\"Prestasi                  : \", prestasi)\n",
    "print(\"======================================================================\")"
   ]
  },
  {
   "cell_type": "code",
   "execution_count": 36,
   "id": "1ba6c938",
   "metadata": {},
   "outputs": [
    {
     "name": "stdout",
     "output_type": "stream",
     "text": [
      "Jawaban No 2\n",
      "MENGHITUNG LUAS PERSEGI PANJANG\n",
      "======================================================================\n",
      "\n",
      "Masukan Panjang: 10\n",
      "Masukan Lebar  : 20\n",
      "Luas Persegi Panjang: 200.0\n",
      "======================================================================\n"
     ]
    }
   ],
   "source": [
    "print (\"Jawaban No 2\")\n",
    "print(\"MENGHITUNG LUAS PERSEGI PANJANG\")\n",
    "print(\"======================================================================\")\n",
    "panjang = float(input(\"\\nMasukan Panjang: \"))\n",
    "lebar = float(input(\"Masukan Lebar  : \"))\n",
    "\n",
    "luas = panjang*lebar\n",
    "\n",
    "# mencetak isi variabel\n",
    "print(\"Luas Persegi Panjang:\",luas)\n",
    "print(\"======================================================================\")"
   ]
  },
  {
   "cell_type": "code",
   "execution_count": 37,
   "id": "e1451771",
   "metadata": {},
   "outputs": [
    {
     "name": "stdout",
     "output_type": "stream",
     "text": [
      "Jawaban No 3\n",
      "KONVERSI SUHU\n",
      "======================================================================\n",
      "Celcius    : 16\n",
      "Reamur     :  12.8\n",
      "Fahrenheit :  60.8\n",
      "======================================================================\n"
     ]
    }
   ],
   "source": [
    "print (\"Jawaban No 3\")\n",
    "print(\"KONVERSI SUHU\")\n",
    "print(\"======================================================================\")\n",
    "Celcius = float(input(\"Celcius    : \"));\n",
    "Reamur = (4/5)*Celcius;\n",
    "Fahrenheit = (9/5)*Celcius + 32; \n",
    "\n",
    "# mencetak isi variabel\n",
    "print (\"Reamur     : \",Reamur);\n",
    "print (\"Fahrenheit : \",Fahrenheit);\n",
    "print(\"======================================================================\")"
   ]
  },
  {
   "cell_type": "code",
   "execution_count": 38,
   "id": "d6d1d8c7",
   "metadata": {},
   "outputs": [
    {
     "name": "stdout",
     "output_type": "stream",
     "text": [
      "Jawaban No 4\n",
      "KONVERSI DETIK\n",
      "======================================================================\n",
      "Masukkan jumlah detik: 86400\n",
      "1 hari 24 jam 0 menit 0 detik\n",
      "======================================================================\n"
     ]
    }
   ],
   "source": [
    "print (\"Jawaban No 4\")\n",
    "print(\"KONVERSI DETIK\")\n",
    "print(\"======================================================================\")\n",
    "\n",
    "jumlah_detik=eval(input(\"Masukkan jumlah detik: \"))\n",
    "\n",
    "hari=jumlah_detik//(24*3600)\n",
    "jam=jumlah_detik//3600\n",
    "sisa_detik=jumlah_detik-3600*jam\n",
    "menit=sisa_detik//60\n",
    "detik=sisa_detik-(60*menit)\n",
    "\n",
    "# mencetak isi variabel\n",
    "print(\"%d hari %d jam %d menit %d detik\"%(hari, jam,menit,detik))\n",
    "print(\"======================================================================\")"
   ]
  },
  {
   "cell_type": "code",
   "execution_count": 39,
   "id": "2552a7a3",
   "metadata": {},
   "outputs": [
    {
     "name": "stdout",
     "output_type": "stream",
     "text": [
      "Jawaban No 5\n",
      "MENGHITUNG LUAS LINGKARAN\n",
      "======================================================================\n",
      "Masukkan panjang jari-jari lingkaran: 360\n",
      "Luas lingkaran adalah : 406944.00000000006\n",
      "======================================================================\n"
     ]
    }
   ],
   "source": [
    "print (\"Jawaban No 5\")\n",
    "print(\"MENGHITUNG LUAS LINGKARAN\")\n",
    "print(\"======================================================================\")\n",
    "phi = 3.14\n",
    "r = float(input(\"Masukkan panjang jari-jari lingkaran: \"))\n",
    "luas = phi*r*r\n",
    "\n",
    "# mencetak isi variabel\n",
    "print(\"Luas lingkaran adalah : \"+ str(luas))\n",
    "print(\"======================================================================\")"
   ]
  },
  {
   "cell_type": "code",
   "execution_count": null,
   "id": "bfc0fd28",
   "metadata": {},
   "outputs": [],
   "source": []
  },
  {
   "cell_type": "code",
   "execution_count": null,
   "id": "7d70d19c",
   "metadata": {},
   "outputs": [],
   "source": []
  },
  {
   "cell_type": "code",
   "execution_count": null,
   "id": "86fdd882",
   "metadata": {},
   "outputs": [],
   "source": []
  }
 ],
 "metadata": {
  "kernelspec": {
   "display_name": "Python 3",
   "language": "python",
   "name": "python3"
  },
  "language_info": {
   "codemirror_mode": {
    "name": "ipython",
    "version": 3
   },
   "file_extension": ".py",
   "mimetype": "text/x-python",
   "name": "python",
   "nbconvert_exporter": "python",
   "pygments_lexer": "ipython3",
   "version": "3.8.8"
  }
 },
 "nbformat": 4,
 "nbformat_minor": 5
}
